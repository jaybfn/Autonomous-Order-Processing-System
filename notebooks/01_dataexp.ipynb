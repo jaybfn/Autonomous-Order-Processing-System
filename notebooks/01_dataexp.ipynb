{
 "cells": [
  {
   "cell_type": "code",
   "execution_count": 106,
   "id": "15334645",
   "metadata": {},
   "outputs": [],
   "source": [
    "import pandas as pd"
   ]
  },
  {
   "cell_type": "code",
   "execution_count": 107,
   "id": "185599ed",
   "metadata": {},
   "outputs": [
    {
     "data": {
      "text/html": [
       "<div>\n",
       "<style scoped>\n",
       "    .dataframe tbody tr th:only-of-type {\n",
       "        vertical-align: middle;\n",
       "    }\n",
       "\n",
       "    .dataframe tbody tr th {\n",
       "        vertical-align: top;\n",
       "    }\n",
       "\n",
       "    .dataframe thead th {\n",
       "        text-align: right;\n",
       "    }\n",
       "</style>\n",
       "<table border=\"1\" class=\"dataframe\">\n",
       "  <thead>\n",
       "    <tr style=\"text-align: right;\">\n",
       "      <th></th>\n",
       "      <th>customer_id</th>\n",
       "      <th>customer_zip_code_prefix</th>\n",
       "      <th>customer_city</th>\n",
       "      <th>customer_state</th>\n",
       "    </tr>\n",
       "  </thead>\n",
       "  <tbody>\n",
       "    <tr>\n",
       "      <th>0</th>\n",
       "      <td>I74lXDOfoqsp</td>\n",
       "      <td>6020</td>\n",
       "      <td>goiania</td>\n",
       "      <td>GO</td>\n",
       "    </tr>\n",
       "    <tr>\n",
       "      <th>1</th>\n",
       "      <td>47TuLHF2s7X5</td>\n",
       "      <td>23020</td>\n",
       "      <td>viamao</td>\n",
       "      <td>RS</td>\n",
       "    </tr>\n",
       "    <tr>\n",
       "      <th>2</th>\n",
       "      <td>dQ0dqI8Qwlj8</td>\n",
       "      <td>75094</td>\n",
       "      <td>campinas</td>\n",
       "      <td>SP</td>\n",
       "    </tr>\n",
       "    <tr>\n",
       "      <th>3</th>\n",
       "      <td>iQCmWhNkIczb</td>\n",
       "      <td>89284</td>\n",
       "      <td>santana de parnaiba</td>\n",
       "      <td>SP</td>\n",
       "    </tr>\n",
       "    <tr>\n",
       "      <th>4</th>\n",
       "      <td>Dp2g6JH8tO5Z</td>\n",
       "      <td>39810</td>\n",
       "      <td>aripuana</td>\n",
       "      <td>MT</td>\n",
       "    </tr>\n",
       "  </tbody>\n",
       "</table>\n",
       "</div>"
      ],
      "text/plain": [
       "    customer_id  customer_zip_code_prefix        customer_city customer_state\n",
       "0  I74lXDOfoqsp                      6020              goiania             GO\n",
       "1  47TuLHF2s7X5                     23020               viamao             RS\n",
       "2  dQ0dqI8Qwlj8                     75094             campinas             SP\n",
       "3  iQCmWhNkIczb                     89284  santana de parnaiba             SP\n",
       "4  Dp2g6JH8tO5Z                     39810             aripuana             MT"
      ]
     },
     "execution_count": 107,
     "metadata": {},
     "output_type": "execute_result"
    }
   ],
   "source": [
    "df_customer = pd.read_csv(\"../data/test/df_Customers.csv\")\n",
    "df_customer.head()"
   ]
  },
  {
   "cell_type": "code",
   "execution_count": 108,
   "id": "2af646a8",
   "metadata": {},
   "outputs": [
    {
     "data": {
      "text/plain": [
       "(38279, 4)"
      ]
     },
     "execution_count": 108,
     "metadata": {},
     "output_type": "execute_result"
    }
   ],
   "source": [
    "df_customer.shape"
   ]
  },
  {
   "cell_type": "code",
   "execution_count": 109,
   "id": "9e790084",
   "metadata": {},
   "outputs": [
    {
     "data": {
      "text/plain": [
       "customer_id                 0\n",
       "customer_zip_code_prefix    0\n",
       "customer_city               0\n",
       "customer_state              0\n",
       "dtype: int64"
      ]
     },
     "execution_count": 109,
     "metadata": {},
     "output_type": "execute_result"
    }
   ],
   "source": [
    "df_customer.isnull().sum()"
   ]
  },
  {
   "cell_type": "code",
   "execution_count": 110,
   "id": "0719c080",
   "metadata": {},
   "outputs": [
    {
     "data": {
      "text/html": [
       "<div>\n",
       "<style scoped>\n",
       "    .dataframe tbody tr th:only-of-type {\n",
       "        vertical-align: middle;\n",
       "    }\n",
       "\n",
       "    .dataframe tbody tr th {\n",
       "        vertical-align: top;\n",
       "    }\n",
       "\n",
       "    .dataframe thead th {\n",
       "        text-align: right;\n",
       "    }\n",
       "</style>\n",
       "<table border=\"1\" class=\"dataframe\">\n",
       "  <thead>\n",
       "    <tr style=\"text-align: right;\">\n",
       "      <th></th>\n",
       "      <th>order_id</th>\n",
       "      <th>product_id</th>\n",
       "      <th>seller_id</th>\n",
       "      <th>price</th>\n",
       "      <th>shipping_charges</th>\n",
       "    </tr>\n",
       "  </thead>\n",
       "  <tbody>\n",
       "    <tr>\n",
       "      <th>0</th>\n",
       "      <td>u6rPMRAYIGig</td>\n",
       "      <td>1slxdgbgWFax</td>\n",
       "      <td>3jwvL6ihC45G</td>\n",
       "      <td>24.10</td>\n",
       "      <td>20.90</td>\n",
       "    </tr>\n",
       "    <tr>\n",
       "      <th>1</th>\n",
       "      <td>ohY8f4FEbX19</td>\n",
       "      <td>77PgsiElQLeB</td>\n",
       "      <td>GlLj704QXlDB</td>\n",
       "      <td>42.89</td>\n",
       "      <td>12.28</td>\n",
       "    </tr>\n",
       "    <tr>\n",
       "      <th>2</th>\n",
       "      <td>I28liQek73i2</td>\n",
       "      <td>QVlD26X1y7NI</td>\n",
       "      <td>V3iKL8r9W9NR</td>\n",
       "      <td>50.21</td>\n",
       "      <td>67.11</td>\n",
       "    </tr>\n",
       "    <tr>\n",
       "      <th>3</th>\n",
       "      <td>bBG1T89mlY8W</td>\n",
       "      <td>yWlFGkKYfrpa</td>\n",
       "      <td>RNBdBKsXebna</td>\n",
       "      <td>89.10</td>\n",
       "      <td>62.05</td>\n",
       "    </tr>\n",
       "    <tr>\n",
       "      <th>4</th>\n",
       "      <td>CYxJJSQS8Lbo</td>\n",
       "      <td>h6MCbrwh5kiC</td>\n",
       "      <td>5Ja2lH0N2OZt</td>\n",
       "      <td>2139.99</td>\n",
       "      <td>9.41</td>\n",
       "    </tr>\n",
       "  </tbody>\n",
       "</table>\n",
       "</div>"
      ],
      "text/plain": [
       "       order_id    product_id     seller_id    price  shipping_charges\n",
       "0  u6rPMRAYIGig  1slxdgbgWFax  3jwvL6ihC45G    24.10             20.90\n",
       "1  ohY8f4FEbX19  77PgsiElQLeB  GlLj704QXlDB    42.89             12.28\n",
       "2  I28liQek73i2  QVlD26X1y7NI  V3iKL8r9W9NR    50.21             67.11\n",
       "3  bBG1T89mlY8W  yWlFGkKYfrpa  RNBdBKsXebna    89.10             62.05\n",
       "4  CYxJJSQS8Lbo  h6MCbrwh5kiC  5Ja2lH0N2OZt  2139.99              9.41"
      ]
     },
     "execution_count": 110,
     "metadata": {},
     "output_type": "execute_result"
    }
   ],
   "source": [
    "df_order_iteam = pd.read_csv(\"../data/test/df_OrderItems.csv\")\n",
    "df_order_iteam.head()"
   ]
  },
  {
   "cell_type": "code",
   "execution_count": 111,
   "id": "1717264f",
   "metadata": {},
   "outputs": [
    {
     "data": {
      "text/plain": [
       "(38279, 5)"
      ]
     },
     "execution_count": 111,
     "metadata": {},
     "output_type": "execute_result"
    }
   ],
   "source": [
    "df_order_iteam.shape"
   ]
  },
  {
   "cell_type": "code",
   "execution_count": 112,
   "id": "9be7b7ef",
   "metadata": {},
   "outputs": [
    {
     "data": {
      "text/plain": [
       "order_id            0\n",
       "product_id          0\n",
       "seller_id           0\n",
       "price               0\n",
       "shipping_charges    0\n",
       "dtype: int64"
      ]
     },
     "execution_count": 112,
     "metadata": {},
     "output_type": "execute_result"
    }
   ],
   "source": [
    "df_order_iteam.isnull().sum()"
   ]
  },
  {
   "cell_type": "code",
   "execution_count": 113,
   "id": "002ff895",
   "metadata": {},
   "outputs": [
    {
     "data": {
      "text/html": [
       "<div>\n",
       "<style scoped>\n",
       "    .dataframe tbody tr th:only-of-type {\n",
       "        vertical-align: middle;\n",
       "    }\n",
       "\n",
       "    .dataframe tbody tr th {\n",
       "        vertical-align: top;\n",
       "    }\n",
       "\n",
       "    .dataframe thead th {\n",
       "        text-align: right;\n",
       "    }\n",
       "</style>\n",
       "<table border=\"1\" class=\"dataframe\">\n",
       "  <thead>\n",
       "    <tr style=\"text-align: right;\">\n",
       "      <th></th>\n",
       "      <th>order_id</th>\n",
       "      <th>customer_id</th>\n",
       "      <th>order_purchase_timestamp</th>\n",
       "      <th>order_approved_at</th>\n",
       "    </tr>\n",
       "  </thead>\n",
       "  <tbody>\n",
       "    <tr>\n",
       "      <th>0</th>\n",
       "      <td>u6rPMRAYIGig</td>\n",
       "      <td>I74lXDOfoqsp</td>\n",
       "      <td>2017-11-18 12:29:57</td>\n",
       "      <td>2017-11-18 12:46:08</td>\n",
       "    </tr>\n",
       "    <tr>\n",
       "      <th>1</th>\n",
       "      <td>ohY8f4FEbX19</td>\n",
       "      <td>47TuLHF2s7X5</td>\n",
       "      <td>2018-06-02 17:13:12</td>\n",
       "      <td>2018-06-02 20:12:23</td>\n",
       "    </tr>\n",
       "    <tr>\n",
       "      <th>2</th>\n",
       "      <td>I28liQek73i2</td>\n",
       "      <td>dQ0dqI8Qwlj8</td>\n",
       "      <td>2018-01-08 11:01:30</td>\n",
       "      <td>2018-01-09 07:24:03</td>\n",
       "    </tr>\n",
       "    <tr>\n",
       "      <th>3</th>\n",
       "      <td>bBG1T89mlY8W</td>\n",
       "      <td>iQCmWhNkIczb</td>\n",
       "      <td>2017-03-10 10:24:46</td>\n",
       "      <td>2017-03-10 10:24:46</td>\n",
       "    </tr>\n",
       "    <tr>\n",
       "      <th>4</th>\n",
       "      <td>CYxJJSQS8Lbo</td>\n",
       "      <td>Dp2g6JH8tO5Z</td>\n",
       "      <td>2017-12-02 10:04:07</td>\n",
       "      <td>2017-12-05 04:13:30</td>\n",
       "    </tr>\n",
       "  </tbody>\n",
       "</table>\n",
       "</div>"
      ],
      "text/plain": [
       "       order_id   customer_id order_purchase_timestamp    order_approved_at\n",
       "0  u6rPMRAYIGig  I74lXDOfoqsp      2017-11-18 12:29:57  2017-11-18 12:46:08\n",
       "1  ohY8f4FEbX19  47TuLHF2s7X5      2018-06-02 17:13:12  2018-06-02 20:12:23\n",
       "2  I28liQek73i2  dQ0dqI8Qwlj8      2018-01-08 11:01:30  2018-01-09 07:24:03\n",
       "3  bBG1T89mlY8W  iQCmWhNkIczb      2017-03-10 10:24:46  2017-03-10 10:24:46\n",
       "4  CYxJJSQS8Lbo  Dp2g6JH8tO5Z      2017-12-02 10:04:07  2017-12-05 04:13:30"
      ]
     },
     "execution_count": 113,
     "metadata": {},
     "output_type": "execute_result"
    }
   ],
   "source": [
    "df_orders = pd.read_csv(\"../data/test/df_Orders.csv\")\n",
    "df_orders.head()"
   ]
  },
  {
   "cell_type": "code",
   "execution_count": 114,
   "id": "c2593209",
   "metadata": {},
   "outputs": [
    {
     "data": {
      "text/plain": [
       "order_id            0\n",
       "product_id          0\n",
       "seller_id           0\n",
       "price               0\n",
       "shipping_charges    0\n",
       "dtype: int64"
      ]
     },
     "execution_count": 114,
     "metadata": {},
     "output_type": "execute_result"
    }
   ],
   "source": [
    "df_order_iteam.isnull().sum()"
   ]
  },
  {
   "cell_type": "code",
   "execution_count": 115,
   "id": "9ce7a2f0",
   "metadata": {},
   "outputs": [
    {
     "data": {
      "text/html": [
       "<div>\n",
       "<style scoped>\n",
       "    .dataframe tbody tr th:only-of-type {\n",
       "        vertical-align: middle;\n",
       "    }\n",
       "\n",
       "    .dataframe tbody tr th {\n",
       "        vertical-align: top;\n",
       "    }\n",
       "\n",
       "    .dataframe thead th {\n",
       "        text-align: right;\n",
       "    }\n",
       "</style>\n",
       "<table border=\"1\" class=\"dataframe\">\n",
       "  <thead>\n",
       "    <tr style=\"text-align: right;\">\n",
       "      <th></th>\n",
       "      <th>order_id</th>\n",
       "      <th>payment_sequential</th>\n",
       "      <th>payment_type</th>\n",
       "      <th>payment_installments</th>\n",
       "      <th>payment_value</th>\n",
       "    </tr>\n",
       "  </thead>\n",
       "  <tbody>\n",
       "    <tr>\n",
       "      <th>0</th>\n",
       "      <td>u6rPMRAYIGig</td>\n",
       "      <td>1</td>\n",
       "      <td>credit_card</td>\n",
       "      <td>2</td>\n",
       "      <td>155.77</td>\n",
       "    </tr>\n",
       "    <tr>\n",
       "      <th>1</th>\n",
       "      <td>ohY8f4FEbX19</td>\n",
       "      <td>1</td>\n",
       "      <td>credit_card</td>\n",
       "      <td>1</td>\n",
       "      <td>4.07</td>\n",
       "    </tr>\n",
       "    <tr>\n",
       "      <th>2</th>\n",
       "      <td>I28liQek73i2</td>\n",
       "      <td>1</td>\n",
       "      <td>wallet</td>\n",
       "      <td>1</td>\n",
       "      <td>381.59</td>\n",
       "    </tr>\n",
       "    <tr>\n",
       "      <th>3</th>\n",
       "      <td>bBG1T89mlY8W</td>\n",
       "      <td>1</td>\n",
       "      <td>credit_card</td>\n",
       "      <td>3</td>\n",
       "      <td>14.76</td>\n",
       "    </tr>\n",
       "    <tr>\n",
       "      <th>4</th>\n",
       "      <td>CYxJJSQS8Lbo</td>\n",
       "      <td>1</td>\n",
       "      <td>wallet</td>\n",
       "      <td>1</td>\n",
       "      <td>284.09</td>\n",
       "    </tr>\n",
       "  </tbody>\n",
       "</table>\n",
       "</div>"
      ],
      "text/plain": [
       "       order_id  payment_sequential payment_type  payment_installments  \\\n",
       "0  u6rPMRAYIGig                   1  credit_card                     2   \n",
       "1  ohY8f4FEbX19                   1  credit_card                     1   \n",
       "2  I28liQek73i2                   1       wallet                     1   \n",
       "3  bBG1T89mlY8W                   1  credit_card                     3   \n",
       "4  CYxJJSQS8Lbo                   1       wallet                     1   \n",
       "\n",
       "   payment_value  \n",
       "0         155.77  \n",
       "1           4.07  \n",
       "2         381.59  \n",
       "3          14.76  \n",
       "4         284.09  "
      ]
     },
     "execution_count": 115,
     "metadata": {},
     "output_type": "execute_result"
    }
   ],
   "source": [
    "df_payments = pd.read_csv(\"../data/test/df_Payments.csv\")\n",
    "df_payments.head()"
   ]
  },
  {
   "cell_type": "code",
   "execution_count": 116,
   "id": "bb900779",
   "metadata": {},
   "outputs": [
    {
     "data": {
      "text/html": [
       "<div>\n",
       "<style scoped>\n",
       "    .dataframe tbody tr th:only-of-type {\n",
       "        vertical-align: middle;\n",
       "    }\n",
       "\n",
       "    .dataframe tbody tr th {\n",
       "        vertical-align: top;\n",
       "    }\n",
       "\n",
       "    .dataframe thead th {\n",
       "        text-align: right;\n",
       "    }\n",
       "</style>\n",
       "<table border=\"1\" class=\"dataframe\">\n",
       "  <thead>\n",
       "    <tr style=\"text-align: right;\">\n",
       "      <th></th>\n",
       "      <th>product_id</th>\n",
       "      <th>product_category_name</th>\n",
       "      <th>product_weight_g</th>\n",
       "      <th>product_length_cm</th>\n",
       "      <th>product_height_cm</th>\n",
       "      <th>product_width_cm</th>\n",
       "    </tr>\n",
       "  </thead>\n",
       "  <tbody>\n",
       "    <tr>\n",
       "      <th>0</th>\n",
       "      <td>1slxdgbgWFax</td>\n",
       "      <td>toys</td>\n",
       "      <td>50.0</td>\n",
       "      <td>16.0</td>\n",
       "      <td>5.0</td>\n",
       "      <td>11.0</td>\n",
       "    </tr>\n",
       "    <tr>\n",
       "      <th>1</th>\n",
       "      <td>77PgsiElQLeB</td>\n",
       "      <td>electronics</td>\n",
       "      <td>200.0</td>\n",
       "      <td>21.0</td>\n",
       "      <td>7.0</td>\n",
       "      <td>14.0</td>\n",
       "    </tr>\n",
       "    <tr>\n",
       "      <th>2</th>\n",
       "      <td>QVlD26X1y7NI</td>\n",
       "      <td>furniture_decor</td>\n",
       "      <td>1000.0</td>\n",
       "      <td>100.0</td>\n",
       "      <td>5.0</td>\n",
       "      <td>20.0</td>\n",
       "    </tr>\n",
       "    <tr>\n",
       "      <th>3</th>\n",
       "      <td>yWlFGkKYfrpa</td>\n",
       "      <td>toys</td>\n",
       "      <td>8950.0</td>\n",
       "      <td>40.0</td>\n",
       "      <td>30.0</td>\n",
       "      <td>40.0</td>\n",
       "    </tr>\n",
       "    <tr>\n",
       "      <th>4</th>\n",
       "      <td>h6MCbrwh5kiC</td>\n",
       "      <td>toys</td>\n",
       "      <td>2301.0</td>\n",
       "      <td>32.0</td>\n",
       "      <td>35.0</td>\n",
       "      <td>34.0</td>\n",
       "    </tr>\n",
       "  </tbody>\n",
       "</table>\n",
       "</div>"
      ],
      "text/plain": [
       "     product_id product_category_name  product_weight_g  product_length_cm  \\\n",
       "0  1slxdgbgWFax                  toys              50.0               16.0   \n",
       "1  77PgsiElQLeB           electronics             200.0               21.0   \n",
       "2  QVlD26X1y7NI       furniture_decor            1000.0              100.0   \n",
       "3  yWlFGkKYfrpa                  toys            8950.0               40.0   \n",
       "4  h6MCbrwh5kiC                  toys            2301.0               32.0   \n",
       "\n",
       "   product_height_cm  product_width_cm  \n",
       "0                5.0              11.0  \n",
       "1                7.0              14.0  \n",
       "2                5.0              20.0  \n",
       "3               30.0              40.0  \n",
       "4               35.0              34.0  "
      ]
     },
     "execution_count": 116,
     "metadata": {},
     "output_type": "execute_result"
    }
   ],
   "source": [
    "df_products = pd.read_csv(\"../data/test/df_Products.csv\")\n",
    "df_products.head()"
   ]
  },
  {
   "cell_type": "code",
   "execution_count": 117,
   "id": "93323f82",
   "metadata": {},
   "outputs": [],
   "source": [
    "df_products = df_products.drop_duplicates() #-->drop duplicates in product"
   ]
  },
  {
   "cell_type": "code",
   "execution_count": 118,
   "id": "319e0aed",
   "metadata": {},
   "outputs": [
    {
     "name": "stdout",
     "output_type": "stream",
     "text": [
      "<class 'pandas.core.frame.DataFrame'>\n",
      "RangeIndex: 38279 entries, 0 to 38278\n",
      "Data columns (total 20 columns):\n",
      " #   Column                    Non-Null Count  Dtype  \n",
      "---  ------                    --------------  -----  \n",
      " 0   order_id                  38279 non-null  object \n",
      " 1   customer_id               38279 non-null  object \n",
      " 2   order_purchase_timestamp  38279 non-null  object \n",
      " 3   order_approved_at         38272 non-null  object \n",
      " 4   customer_zip_code_prefix  38279 non-null  int64  \n",
      " 5   customer_city             38279 non-null  object \n",
      " 6   customer_state            38279 non-null  object \n",
      " 7   product_id                38279 non-null  object \n",
      " 8   seller_id                 38279 non-null  object \n",
      " 9   price                     38279 non-null  float64\n",
      " 10  shipping_charges          38279 non-null  float64\n",
      " 11  payment_sequential        38279 non-null  int64  \n",
      " 12  payment_type              38279 non-null  object \n",
      " 13  payment_installments      38279 non-null  int64  \n",
      " 14  payment_value             38279 non-null  float64\n",
      " 15  product_category_name     38111 non-null  object \n",
      " 16  product_weight_g          38269 non-null  float64\n",
      " 17  product_length_cm         38269 non-null  float64\n",
      " 18  product_height_cm         38269 non-null  float64\n",
      " 19  product_width_cm          38269 non-null  float64\n",
      "dtypes: float64(7), int64(3), object(10)\n",
      "memory usage: 5.8+ MB\n"
     ]
    }
   ],
   "source": [
    "df_master = df_orders.merge(df_customer, on=\"customer_id\", how=\"left\")\n",
    "df_master = df_master.merge(df_order_iteam, on=\"order_id\", how=\"left\")\n",
    "df_master = df_master.merge(df_payments, on=\"order_id\", how=\"left\")\n",
    "df_master = df_master.merge(df_products, on=\"product_id\", how=\"left\")\n",
    "df_master.info()"
   ]
  },
  {
   "cell_type": "code",
   "execution_count": 119,
   "id": "6e313a7a",
   "metadata": {},
   "outputs": [
    {
     "data": {
      "text/html": [
       "<div>\n",
       "<style scoped>\n",
       "    .dataframe tbody tr th:only-of-type {\n",
       "        vertical-align: middle;\n",
       "    }\n",
       "\n",
       "    .dataframe tbody tr th {\n",
       "        vertical-align: top;\n",
       "    }\n",
       "\n",
       "    .dataframe thead th {\n",
       "        text-align: right;\n",
       "    }\n",
       "</style>\n",
       "<table border=\"1\" class=\"dataframe\">\n",
       "  <thead>\n",
       "    <tr style=\"text-align: right;\">\n",
       "      <th></th>\n",
       "      <th>order_id</th>\n",
       "      <th>customer_id</th>\n",
       "      <th>order_purchase_timestamp</th>\n",
       "      <th>order_approved_at</th>\n",
       "      <th>customer_zip_code_prefix</th>\n",
       "      <th>customer_city</th>\n",
       "      <th>customer_state</th>\n",
       "      <th>product_id</th>\n",
       "      <th>seller_id</th>\n",
       "      <th>price</th>\n",
       "      <th>shipping_charges</th>\n",
       "      <th>payment_sequential</th>\n",
       "      <th>payment_type</th>\n",
       "      <th>payment_installments</th>\n",
       "      <th>payment_value</th>\n",
       "      <th>product_category_name</th>\n",
       "      <th>product_weight_g</th>\n",
       "      <th>product_length_cm</th>\n",
       "      <th>product_height_cm</th>\n",
       "      <th>product_width_cm</th>\n",
       "    </tr>\n",
       "  </thead>\n",
       "  <tbody>\n",
       "    <tr>\n",
       "      <th>0</th>\n",
       "      <td>u6rPMRAYIGig</td>\n",
       "      <td>I74lXDOfoqsp</td>\n",
       "      <td>2017-11-18 12:29:57</td>\n",
       "      <td>2017-11-18 12:46:08</td>\n",
       "      <td>6020</td>\n",
       "      <td>goiania</td>\n",
       "      <td>GO</td>\n",
       "      <td>1slxdgbgWFax</td>\n",
       "      <td>3jwvL6ihC45G</td>\n",
       "      <td>24.10</td>\n",
       "      <td>20.90</td>\n",
       "      <td>1</td>\n",
       "      <td>credit_card</td>\n",
       "      <td>2</td>\n",
       "      <td>155.77</td>\n",
       "      <td>toys</td>\n",
       "      <td>50.0</td>\n",
       "      <td>16.0</td>\n",
       "      <td>5.0</td>\n",
       "      <td>11.0</td>\n",
       "    </tr>\n",
       "    <tr>\n",
       "      <th>1</th>\n",
       "      <td>ohY8f4FEbX19</td>\n",
       "      <td>47TuLHF2s7X5</td>\n",
       "      <td>2018-06-02 17:13:12</td>\n",
       "      <td>2018-06-02 20:12:23</td>\n",
       "      <td>23020</td>\n",
       "      <td>viamao</td>\n",
       "      <td>RS</td>\n",
       "      <td>77PgsiElQLeB</td>\n",
       "      <td>GlLj704QXlDB</td>\n",
       "      <td>42.89</td>\n",
       "      <td>12.28</td>\n",
       "      <td>1</td>\n",
       "      <td>credit_card</td>\n",
       "      <td>1</td>\n",
       "      <td>4.07</td>\n",
       "      <td>electronics</td>\n",
       "      <td>200.0</td>\n",
       "      <td>21.0</td>\n",
       "      <td>7.0</td>\n",
       "      <td>14.0</td>\n",
       "    </tr>\n",
       "    <tr>\n",
       "      <th>2</th>\n",
       "      <td>I28liQek73i2</td>\n",
       "      <td>dQ0dqI8Qwlj8</td>\n",
       "      <td>2018-01-08 11:01:30</td>\n",
       "      <td>2018-01-09 07:24:03</td>\n",
       "      <td>75094</td>\n",
       "      <td>campinas</td>\n",
       "      <td>SP</td>\n",
       "      <td>QVlD26X1y7NI</td>\n",
       "      <td>V3iKL8r9W9NR</td>\n",
       "      <td>50.21</td>\n",
       "      <td>67.11</td>\n",
       "      <td>1</td>\n",
       "      <td>wallet</td>\n",
       "      <td>1</td>\n",
       "      <td>381.59</td>\n",
       "      <td>furniture_decor</td>\n",
       "      <td>1000.0</td>\n",
       "      <td>100.0</td>\n",
       "      <td>5.0</td>\n",
       "      <td>20.0</td>\n",
       "    </tr>\n",
       "    <tr>\n",
       "      <th>3</th>\n",
       "      <td>bBG1T89mlY8W</td>\n",
       "      <td>iQCmWhNkIczb</td>\n",
       "      <td>2017-03-10 10:24:46</td>\n",
       "      <td>2017-03-10 10:24:46</td>\n",
       "      <td>89284</td>\n",
       "      <td>santana de parnaiba</td>\n",
       "      <td>SP</td>\n",
       "      <td>yWlFGkKYfrpa</td>\n",
       "      <td>RNBdBKsXebna</td>\n",
       "      <td>89.10</td>\n",
       "      <td>62.05</td>\n",
       "      <td>1</td>\n",
       "      <td>credit_card</td>\n",
       "      <td>3</td>\n",
       "      <td>14.76</td>\n",
       "      <td>toys</td>\n",
       "      <td>8950.0</td>\n",
       "      <td>40.0</td>\n",
       "      <td>30.0</td>\n",
       "      <td>40.0</td>\n",
       "    </tr>\n",
       "    <tr>\n",
       "      <th>4</th>\n",
       "      <td>CYxJJSQS8Lbo</td>\n",
       "      <td>Dp2g6JH8tO5Z</td>\n",
       "      <td>2017-12-02 10:04:07</td>\n",
       "      <td>2017-12-05 04:13:30</td>\n",
       "      <td>39810</td>\n",
       "      <td>aripuana</td>\n",
       "      <td>MT</td>\n",
       "      <td>h6MCbrwh5kiC</td>\n",
       "      <td>5Ja2lH0N2OZt</td>\n",
       "      <td>2139.99</td>\n",
       "      <td>9.41</td>\n",
       "      <td>1</td>\n",
       "      <td>wallet</td>\n",
       "      <td>1</td>\n",
       "      <td>284.09</td>\n",
       "      <td>toys</td>\n",
       "      <td>2301.0</td>\n",
       "      <td>32.0</td>\n",
       "      <td>35.0</td>\n",
       "      <td>34.0</td>\n",
       "    </tr>\n",
       "  </tbody>\n",
       "</table>\n",
       "</div>"
      ],
      "text/plain": [
       "       order_id   customer_id order_purchase_timestamp    order_approved_at  \\\n",
       "0  u6rPMRAYIGig  I74lXDOfoqsp      2017-11-18 12:29:57  2017-11-18 12:46:08   \n",
       "1  ohY8f4FEbX19  47TuLHF2s7X5      2018-06-02 17:13:12  2018-06-02 20:12:23   \n",
       "2  I28liQek73i2  dQ0dqI8Qwlj8      2018-01-08 11:01:30  2018-01-09 07:24:03   \n",
       "3  bBG1T89mlY8W  iQCmWhNkIczb      2017-03-10 10:24:46  2017-03-10 10:24:46   \n",
       "4  CYxJJSQS8Lbo  Dp2g6JH8tO5Z      2017-12-02 10:04:07  2017-12-05 04:13:30   \n",
       "\n",
       "   customer_zip_code_prefix        customer_city customer_state    product_id  \\\n",
       "0                      6020              goiania             GO  1slxdgbgWFax   \n",
       "1                     23020               viamao             RS  77PgsiElQLeB   \n",
       "2                     75094             campinas             SP  QVlD26X1y7NI   \n",
       "3                     89284  santana de parnaiba             SP  yWlFGkKYfrpa   \n",
       "4                     39810             aripuana             MT  h6MCbrwh5kiC   \n",
       "\n",
       "      seller_id    price  shipping_charges  payment_sequential payment_type  \\\n",
       "0  3jwvL6ihC45G    24.10             20.90                   1  credit_card   \n",
       "1  GlLj704QXlDB    42.89             12.28                   1  credit_card   \n",
       "2  V3iKL8r9W9NR    50.21             67.11                   1       wallet   \n",
       "3  RNBdBKsXebna    89.10             62.05                   1  credit_card   \n",
       "4  5Ja2lH0N2OZt  2139.99              9.41                   1       wallet   \n",
       "\n",
       "   payment_installments  payment_value product_category_name  \\\n",
       "0                     2         155.77                  toys   \n",
       "1                     1           4.07           electronics   \n",
       "2                     1         381.59       furniture_decor   \n",
       "3                     3          14.76                  toys   \n",
       "4                     1         284.09                  toys   \n",
       "\n",
       "   product_weight_g  product_length_cm  product_height_cm  product_width_cm  \n",
       "0              50.0               16.0                5.0              11.0  \n",
       "1             200.0               21.0                7.0              14.0  \n",
       "2            1000.0              100.0                5.0              20.0  \n",
       "3            8950.0               40.0               30.0              40.0  \n",
       "4            2301.0               32.0               35.0              34.0  "
      ]
     },
     "execution_count": 119,
     "metadata": {},
     "output_type": "execute_result"
    }
   ],
   "source": [
    "df_master.head()"
   ]
  },
  {
   "cell_type": "code",
   "execution_count": 120,
   "id": "bd8d1b23",
   "metadata": {},
   "outputs": [
    {
     "data": {
      "text/plain": [
       "(38279, 20)"
      ]
     },
     "execution_count": 120,
     "metadata": {},
     "output_type": "execute_result"
    }
   ],
   "source": [
    "df_master.shape"
   ]
  },
  {
   "cell_type": "code",
   "execution_count": 121,
   "id": "a574c8b4",
   "metadata": {},
   "outputs": [],
   "source": [
    "df_master[\"order_purchase_timestamp\"]= pd.to_datetime(df_master[\"order_purchase_timestamp\"])"
   ]
  },
  {
   "cell_type": "code",
   "execution_count": 122,
   "id": "d3888679",
   "metadata": {},
   "outputs": [],
   "source": [
    "df_master[\"order_approved_at\"]= pd.to_datetime(df_master[\"order_approved_at\"])"
   ]
  },
  {
   "cell_type": "code",
   "execution_count": 125,
   "id": "137368ad",
   "metadata": {},
   "outputs": [],
   "source": [
    "#df_master[\"order_delivered_timestamp\"]= pd.to_datetime(df_master[\"order_delivered_timestamp\"])"
   ]
  },
  {
   "cell_type": "code",
   "execution_count": 127,
   "id": "3ad0535c",
   "metadata": {},
   "outputs": [],
   "source": [
    "#df_master[\"order_estimated_delivery_date\"]= pd.to_datetime(df_master[\"order_estimated_delivery_date\"])"
   ]
  },
  {
   "cell_type": "code",
   "execution_count": 128,
   "id": "ce87d5d7",
   "metadata": {},
   "outputs": [],
   "source": [
    "df_master.to_csv(\"../data/test/df_master.csv\", index=False)"
   ]
  },
  {
   "cell_type": "code",
   "execution_count": 129,
   "id": "ccb408f2",
   "metadata": {},
   "outputs": [
    {
     "name": "stdout",
     "output_type": "stream",
     "text": [
      "<class 'pandas.core.frame.DataFrame'>\n",
      "RangeIndex: 38279 entries, 0 to 38278\n",
      "Data columns (total 20 columns):\n",
      " #   Column                    Non-Null Count  Dtype         \n",
      "---  ------                    --------------  -----         \n",
      " 0   order_id                  38279 non-null  object        \n",
      " 1   customer_id               38279 non-null  object        \n",
      " 2   order_purchase_timestamp  38279 non-null  datetime64[ns]\n",
      " 3   order_approved_at         38272 non-null  datetime64[ns]\n",
      " 4   customer_zip_code_prefix  38279 non-null  int64         \n",
      " 5   customer_city             38279 non-null  object        \n",
      " 6   customer_state            38279 non-null  object        \n",
      " 7   product_id                38279 non-null  object        \n",
      " 8   seller_id                 38279 non-null  object        \n",
      " 9   price                     38279 non-null  float64       \n",
      " 10  shipping_charges          38279 non-null  float64       \n",
      " 11  payment_sequential        38279 non-null  int64         \n",
      " 12  payment_type              38279 non-null  object        \n",
      " 13  payment_installments      38279 non-null  int64         \n",
      " 14  payment_value             38279 non-null  float64       \n",
      " 15  product_category_name     38111 non-null  object        \n",
      " 16  product_weight_g          38269 non-null  float64       \n",
      " 17  product_length_cm         38269 non-null  float64       \n",
      " 18  product_height_cm         38269 non-null  float64       \n",
      " 19  product_width_cm          38269 non-null  float64       \n",
      "dtypes: datetime64[ns](2), float64(7), int64(3), object(8)\n",
      "memory usage: 5.8+ MB\n"
     ]
    }
   ],
   "source": [
    "df_master.info()"
   ]
  },
  {
   "cell_type": "code",
   "execution_count": null,
   "id": "28010537",
   "metadata": {},
   "outputs": [],
   "source": []
  },
  {
   "cell_type": "code",
   "execution_count": null,
   "id": "3f4bcef4",
   "metadata": {},
   "outputs": [],
   "source": []
  }
 ],
 "metadata": {
  "kernelspec": {
   "display_name": "aops-agent",
   "language": "python",
   "name": "python3"
  },
  "language_info": {
   "codemirror_mode": {
    "name": "ipython",
    "version": 3
   },
   "file_extension": ".py",
   "mimetype": "text/x-python",
   "name": "python",
   "nbconvert_exporter": "python",
   "pygments_lexer": "ipython3",
   "version": "3.12.10"
  }
 },
 "nbformat": 4,
 "nbformat_minor": 5
}
